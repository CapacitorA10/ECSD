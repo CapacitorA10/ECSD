{
 "cells": [
  {
   "cell_type": "code",
   "execution_count": 1,
   "id": "c0668dfd",
   "metadata": {},
   "outputs": [],
   "source": [
    "import RPi.GPIO as GPIO\n",
    "import time "
   ]
  },
  {
   "cell_type": "code",
   "execution_count": 7,
   "id": "7fba964b",
   "metadata": {},
   "outputs": [],
   "source": [
    "out1 = 18 #17\n",
    "out2 = 17 #18\n",
    "out3 = 27 #27\n",
    "out4 = 22 #22\n",
    "\n",
    "step_sleep = 0.005\n",
    "\n",
    "step_count = 200\n",
    " "
   ]
  },
  {
   "cell_type": "code",
   "execution_count": 8,
   "id": "9a7f2d5e",
   "metadata": {},
   "outputs": [],
   "source": [
    "GPIO.setmode(GPIO.BCM)\n",
    "GPIO.setup(out1,GPIO.OUT)\n",
    "GPIO.setup(out2,GPIO.OUT)\n",
    "GPIO.setup(out3,GPIO.OUT)\n",
    "GPIO.setup(out4,GPIO.OUT)"
   ]
  },
  {
   "cell_type": "code",
   "execution_count": 9,
   "id": "136388b6",
   "metadata": {},
   "outputs": [],
   "source": [
    "# initializing\n",
    "GPIO.output( out1, GPIO.LOW )\n",
    "GPIO.output( out2, GPIO.LOW )\n",
    "GPIO.output( out3, GPIO.LOW )\n",
    "GPIO.output( out4, GPIO.LOW )\n",
    " \n",
    " \n",
    "def clean():\n",
    "    GPIO.output( out1, GPIO.LOW )\n",
    "    GPIO.output( out2, GPIO.LOW )\n",
    "    GPIO.output( out3, GPIO.LOW )\n",
    "    GPIO.output( out4, GPIO.LOW )\n",
    "    GPIO.cleanup()\n",
    " "
   ]
  },
  {
   "cell_type": "code",
   "execution_count": 10,
   "id": "464c34ff",
   "metadata": {},
   "outputs": [],
   "source": [
    "   \n",
    "\n",
    "i=0\n",
    "for i in range(step_count):\n",
    "    if i%4==0:\n",
    "        GPIO.output(out4, GPIO.HIGH)\n",
    "        GPIO.output(out3, GPIO.LOW)\n",
    "        GPIO.output(out2, GPIO.LOW)\n",
    "        GPIO.output(out1, GPIO.LOW)\n",
    "    if i%4==1:\n",
    "        GPIO.output(out4, GPIO.LOW)\n",
    "        GPIO.output(out3, GPIO.LOW)\n",
    "        GPIO.output(out2, GPIO.HIGH)\n",
    "        GPIO.output(out1, GPIO.LOW)\n",
    "    if i%4==2:\n",
    "        GPIO.output(out4, GPIO.LOW)\n",
    "        GPIO.output(out3, GPIO.HIGH)\n",
    "        GPIO.output(out2, GPIO.LOW)\n",
    "        GPIO.output(out1, GPIO.LOW)\n",
    "    if i%4==3:\n",
    "        GPIO.output(out4, GPIO.LOW)\n",
    "        GPIO.output(out3, GPIO.LOW)\n",
    "        GPIO.output(out2, GPIO.LOW)\n",
    "        GPIO.output(out1, GPIO.HIGH)\n",
    "    time.sleep(step_sleep)\n",
    "clean()\n",
    "            \n",
    "    "
   ]
  },
  {
   "cell_type": "code",
   "execution_count": 28,
   "id": "9ac6080a",
   "metadata": {},
   "outputs": [],
   "source": []
  },
  {
   "cell_type": "code",
   "execution_count": null,
   "id": "801f9396",
   "metadata": {},
   "outputs": [],
   "source": []
  }
 ],
 "metadata": {
  "kernelspec": {
   "display_name": "Python 3 (ipykernel)",
   "language": "python",
   "name": "python3"
  },
  "language_info": {
   "codemirror_mode": {
    "name": "ipython",
    "version": 3
   },
   "file_extension": ".py",
   "mimetype": "text/x-python",
   "name": "python",
   "nbconvert_exporter": "python",
   "pygments_lexer": "ipython3",
   "version": "3.7.3"
  }
 },
 "nbformat": 4,
 "nbformat_minor": 5
}
