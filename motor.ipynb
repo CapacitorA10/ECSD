{
 "cells": [
  {
   "cell_type": "code",
   "execution_count": 2,
   "id": "c0668dfd",
   "metadata": {},
   "outputs": [],
   "source": [
    "import RPi.GPIO as GPIO\n",
    "import time "
   ]
  },
  {
   "cell_type": "code",
   "execution_count": 5,
   "id": "7fba964b",
   "metadata": {},
   "outputs": [],
   "source": [
    "out1 = 26\n",
    "out2 = 19\n",
    "out3 = 13\n",
    "out4 = 5"
   ]
  },
  {
   "cell_type": "code",
   "execution_count": 6,
   "id": "9a7f2d5e",
   "metadata": {},
   "outputs": [],
   "source": [
    "GPIO.setmode(GPIO.BOARD)\n",
    "GPIO.setup(out1,GPIO.OUT)\n",
    "GPIO.setup(out2,GPIO.OUT)\n",
    "GPIO.setup(out3,GPIO.OUT)\n",
    "GPIO.setup(out4,GPIO.OUT)"
   ]
  },
  {
   "cell_type": "code",
   "execution_count": 12,
   "id": "136388b6",
   "metadata": {},
   "outputs": [],
   "source": [
    "k = 0\n",
    "while(k<10):\n",
    "    GPIO.output(out1, GPIO.LOW)\n",
    "    GPIO.output(out2, GPIO.LOW)\n",
    "    GPIO.output(out3, GPIO.LOW)\n",
    "    GPIO.output(out4, GPIO.LOW)\n",
    "    time.sleep(0.3)\n",
    "    GPIO.output(out1, GPIO.HIGH)\n",
    "    GPIO.output(out2, GPIO.LOW)\n",
    "    GPIO.output(out3, GPIO.HIGH)\n",
    "    GPIO.output(out4, GPIO.LOW)\n",
    "    time.sleep(0.3)\n",
    "    k+=1"
   ]
  },
  {
   "cell_type": "code",
   "execution_count": null,
   "id": "464c34ff",
   "metadata": {},
   "outputs": [],
   "source": []
  }
 ],
 "metadata": {
  "kernelspec": {
   "display_name": "Python 3 (ipykernel)",
   "language": "python",
   "name": "python3"
  },
  "language_info": {
   "codemirror_mode": {
    "name": "ipython",
    "version": 3
   },
   "file_extension": ".py",
   "mimetype": "text/x-python",
   "name": "python",
   "nbconvert_exporter": "python",
   "pygments_lexer": "ipython3",
   "version": "3.7.3"
  }
 },
 "nbformat": 4,
 "nbformat_minor": 5
}
