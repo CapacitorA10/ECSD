{
 "cells": [
  {
   "cell_type": "code",
   "execution_count": 1,
   "id": "c0668dfd",
   "metadata": {},
   "outputs": [],
   "source": [
    "import RPi.GPIO as GPIO\n",
    "import time\n",
    "from imread import imread\n",
    "from motor import motor\n",
    "\n",
    "out1 = 18 #17\n",
    "out2 = 17 #18\n",
    "out3 = 27 #27\n",
    "out4 = 22 #22\n",
    "\n",
    "GPIO.setmode(GPIO.BCM)\n",
    "GPIO.setup(out1,GPIO.OUT)\n",
    "GPIO.setup(out2,GPIO.OUT)\n",
    "GPIO.setup(out3,GPIO.OUT)\n",
    "GPIO.setup(out4,GPIO.OUT)\n",
    "\n",
    "# initializing\n",
    "GPIO.output( out1, GPIO.LOW )\n",
    "GPIO.output( out2, GPIO.LOW )\n",
    "GPIO.output( out3, GPIO.LOW )\n",
    "GPIO.output( out4, GPIO.LOW )"
   ]
  },
  {
   "cell_type": "code",
   "execution_count": 2,
   "id": "7fba964b",
   "metadata": {},
   "outputs": [
    {
     "name": "stdout",
     "output_type": "stream",
     "text": [
      "decision:l\n",
      "decision:n\n",
      "decision:l\n",
      "decision:r\n",
      "decision:n\n",
      "decision:r\n",
      "decision:l\n",
      "decision:l\n",
      "decision:r\n",
      "decision:l\n",
      "Right lane not detected\n",
      "decision:n\n"
     ]
    }
   ],
   "source": [
    "mem='n'\n",
    "for i in range(11):\n",
    "    drctn = imread(i, 1) # 각 이미지에서 받아오는 좌,우 정보 문자 direction\n",
    "    if drctn == mem:\n",
    "        pass\n",
    "    elif mem == 'n':\n",
    "        motor(drctn)\n",
    "    elif mem == 'r':\n",
    "        if drctn == 'n': motor('l')\n",
    "        else:\n",
    "            motor('l')\n",
    "            motor('l')\n",
    "    elif mem == 'l':\n",
    "        if drctn == 'n': motor('r')\n",
    "        else:\n",
    "            motor('r')\n",
    "            motor('r')\n",
    "    # 모터 구동 끝\n"
   ]
  },
  {
   "cell_type": "code",
   "execution_count": 4,
   "id": "9a7f2d5e",
   "metadata": {},
   "outputs": [],
   "source": [
    "\n",
    "def clean():\n",
    "    GPIO.output( out1, GPIO.LOW )\n",
    "    GPIO.output( out2, GPIO.LOW )\n",
    "    GPIO.output( out3, GPIO.LOW )\n",
    "    GPIO.output( out4, GPIO.LOW )\n",
    "    GPIO.cleanup()\n",
    "\n",
    "clean()"
   ]
  },
  {
   "cell_type": "code",
   "execution_count": null,
   "id": "49ffd16f",
   "metadata": {},
   "outputs": [],
   "source": []
  }
 ],
 "metadata": {
  "kernelspec": {
   "display_name": "Python 3 (ipykernel)",
   "language": "python",
   "name": "python3"
  },
  "language_info": {
   "codemirror_mode": {
    "name": "ipython",
    "version": 3
   },
   "file_extension": ".py",
   "mimetype": "text/x-python",
   "name": "python",
   "nbconvert_exporter": "python",
   "pygments_lexer": "ipython3",
   "version": "3.7.3"
  }
 },
 "nbformat": 4,
 "nbformat_minor": 5
}
